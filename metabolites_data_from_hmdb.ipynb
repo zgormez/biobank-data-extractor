{
  "nbformat": 4,
  "nbformat_minor": 0,
  "metadata": {
    "colab": {
      "provenance": [],
      "include_colab_link": true
    },
    "kernelspec": {
      "name": "python3",
      "display_name": "Python 3"
    },
    "language_info": {
      "name": "python"
    }
  },
  "cells": [
    {
      "cell_type": "markdown",
      "metadata": {
        "id": "view-in-github",
        "colab_type": "text"
      },
      "source": [
        "<a href=\"https://colab.research.google.com/github/zgormez/biobank-data-extractor/blob/main/metabolites_data_from_hmdb.ipynb\" target=\"_parent\"><img src=\"https://colab.research.google.com/assets/colab-badge.svg\" alt=\"Open In Colab\"/></a>"
      ]
    },
    {
      "cell_type": "markdown",
      "source": [
        "This notebook created for [biocrates life sciences ag](https://biocrates.com/)\n",
        "\n",
        "Dr. Zeliha Cetin\n",
        "\n",
        "10.10.2024"
      ],
      "metadata": {
        "id": "KP6H5Q6DXOBf"
      }
    },
    {
      "cell_type": "markdown",
      "source": [
        "Define a function to exract data from biobank as an html page and parse it"
      ],
      "metadata": {
        "id": "A8BQBcnyVG3m"
      }
    },
    {
      "cell_type": "code",
      "execution_count": null,
      "metadata": {
        "id": "GDmEPGNJxr9Z"
      },
      "outputs": [],
      "source": [
        "import requests\n",
        "from bs4 import BeautifulSoup\n",
        "\n",
        "def get_metabolite_details(accession_number):\n",
        "    '''\n",
        "    Get the details of a metabolite from HMDB by accession number\n",
        "    '''\n",
        "    # Define the URL for the HMDB page\n",
        "    url = f\"https://hmdb.ca/metabolites/{accession_number}\"\n",
        "    response = requests.get(url)\n",
        "\n",
        "    if response.status_code != 200:\n",
        "        print(f\"Failed to retrieve data for {accession_number}: {response.status_code}\")\n",
        "        return None\n",
        "\n",
        "    soup = BeautifulSoup(response.content, 'html.parser')\n",
        "\n",
        "    def extract_info(label):\n",
        "        element = soup.find('th', string=label)\n",
        "        if element and element.find_next_sibling('td'):\n",
        "            return element.find_next_sibling('td').text.strip()\n",
        "        return None\n",
        "\n",
        "    metabolite_details = {\n",
        "        \"HMDB ID\": accession_number,\n",
        "        \"Common Name\": extract_info(\"Common Name\"),\n",
        "        \"Chemical Formula\": extract_info(\"Chemical Formula\"),\n",
        "        \"IUPAC Name\": extract_info(\"IUPAC Name\"),\n",
        "        \"Traditional Name\": extract_info(\"Traditional Name\"),\n",
        "        \"CAS Registry Number\": extract_info(\"CAS Registry Number\"),\n",
        "        \"SMILES\": extract_info(\"SMILES\"),\n",
        "        \"InChI Identifier\": extract_info(\"InChI Identifier\"),\n",
        "        \"InChI Key\": extract_info(\"InChI Key\")\n",
        "    }\n",
        "    return metabolite_details\n",
        "\n"
      ]
    },
    {
      "cell_type": "markdown",
      "source": [
        "Get a list of metabolites and extract data for all metabolites"
      ],
      "metadata": {
        "id": "65BhTyQK01jh"
      }
    },
    {
      "cell_type": "code",
      "source": [
        "import pandas as pd\n",
        "from google.colab import drive\n",
        "\n",
        "''' Read  the list of HMDB ID from a txt file and exract the information'''\n",
        "\n",
        "# Mount Google Drive\n",
        "drive.mount('/content/drive')\n",
        "# Define the path to save the file in Google Drive\n",
        "MAIN_PATH = '/content/drive/MyDrive/biocrates/'\n",
        "OUT_FILE_PATH = MAIN_PATH+'Metabolites_details.csv'\n",
        "IN_FILE_PATH = MAIN_PATH+'metabolites_list.txt'\n",
        "\n",
        "'''\n",
        "Example content of input file containing HMDB IDs in each line:\n",
        "HMDB0000195\n",
        "HMDB0000001\n",
        "HMDB0000002\n",
        "HMDB0000003\n",
        "HMDB0000004\n",
        "'''\n",
        "# Define the CSV file header\n",
        "csv_header = [\n",
        "        \"HMDB ID\", \"Common Name\", \"Chemical Formula\", \"IUPAC Name\",\n",
        "        \"Traditional Name\", \"CAS Registry Number\", \"SMILES\",\n",
        "        \"InChI Identifier\", \"InChI Key\"\n",
        "]\n",
        "# Create data frame from columns names\n",
        "df = pd.DataFrame(columns=csv_header)\n",
        "\n",
        "# get all  metabolites ID from a txt file and call the function\n",
        "num_found = 0\n",
        "num_not_found = 0\n",
        "with open(IN_FILE_PATH) as f:\n",
        "    for line in f.readlines():\n",
        "        metobolite_hmdb_id = line.strip()\n",
        "        details=get_metabolite_details(metobolite_hmdb_id)\n",
        "        if details:\n",
        "            num_found += 1\n",
        "            df.loc[len(df)] = metobolite_hmdb_id\n",
        "            print(f\"Metabolite ( {metobolite_hmdb_id}) details have been extracted\")\n",
        "        else:\n",
        "            num_not_found += 1\n",
        "            print(f\"No details found for HMDB ID: {metobolite_hmdb_id}\")\n",
        "\n",
        "\n",
        "df.to_csv(OUT_FILE_PATH, index=False)\n",
        "\n",
        "print(f\"\\nData saved to {OUT_FILE_PATH}\")\n",
        "print(f\"Number of metabolites found: {num_found}\")\n",
        "print(f\"Number of metabolites not found: {num_not_found}\")\n"
      ],
      "metadata": {
        "colab": {
          "base_uri": "https://localhost:8080/"
        },
        "id": "_nEIWD0-CZL1",
        "outputId": "eaf90566-3448-4ff8-999a-7d3dfaabf198"
      },
      "execution_count": null,
      "outputs": [
        {
          "output_type": "stream",
          "name": "stdout",
          "text": [
            "Mounted at /content/drive\n",
            "Metabolite ( HMDB0000195) details have been extracted\n",
            "Metabolite ( HMDB0000001) details have been extracted\n",
            "Metabolite ( HMDB0000002) details have been extracted\n",
            "Failed to retrieve data for HMDB0000003: 404\n",
            "No details found for HMDB ID: HMDB0000003\n",
            "Failed to retrieve data for HMDB0000004: 404\n",
            "No details found for HMDB ID: HMDB0000004\n",
            "\n",
            "Data saved to /content/drive/MyDrive/biocrates/Metabolites_details.csv\n",
            "Number of metabolites found: 3\n",
            "Number of metabolites not found: 2\n"
          ]
        }
      ]
    }
  ]
}