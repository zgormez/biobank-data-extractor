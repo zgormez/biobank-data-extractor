{
  "nbformat": 4,
  "nbformat_minor": 0,
  "metadata": {
    "colab": {
      "provenance": [],
      "include_colab_link": true
    },
    "kernelspec": {
      "name": "python3",
      "display_name": "Python 3"
    },
    "language_info": {
      "name": "python"
    }
  },
  "cells": [
    {
      "cell_type": "markdown",
      "metadata": {
        "id": "view-in-github",
        "colab_type": "text"
      },
      "source": [
        "<a href=\"https://colab.research.google.com/github/zgormez/biobank-data-extractor/blob/main/metabolites-data_from_hmdb.ipynb\" target=\"_parent\"><img src=\"https://colab.research.google.com/assets/colab-badge.svg\" alt=\"Open In Colab\"/></a>"
      ]
    },
    {
      "cell_type": "code",
      "execution_count": 33,
      "metadata": {
        "id": "GDmEPGNJxr9Z"
      },
      "outputs": [],
      "source": [
        "import requests\n",
        "from bs4 import BeautifulSoup\n",
        "\n",
        "def get_metabolite_details(accession_number):\n",
        "    '''\n",
        "    Get the details of a metabolite from HMDB by accession number\n",
        "    '''\n",
        "    # Define the URL for the HMDB page\n",
        "    url = f\"https://hmdb.ca/metabolites/{accession_number}\"\n",
        "    response = requests.get(url)\n",
        "\n",
        "    if response.status_code != 200:\n",
        "        print(f\"Failed to retrieve data for {accession_number}: {response.status_code}\")\n",
        "        return None\n",
        "\n",
        "    soup = BeautifulSoup(response.content, 'html.parser')\n",
        "\n",
        "    def extract_info(label):\n",
        "        element = soup.find('th', string=label)\n",
        "        if element and element.find_next_sibling('td'):\n",
        "            return element.find_next_sibling('td').text.strip()\n",
        "        return None\n",
        "\n",
        "    metabolite_details = {\n",
        "        \"HMDB ID\": accession_number,\n",
        "        \"Common Name\": extract_info(\"Common Name\"),\n",
        "        \"Chemical Formula\": extract_info(\"Chemical Formula\"),\n",
        "        \"IUPAC Name\": extract_info(\"IUPAC Name\"),\n",
        "        \"Traditional Name\": extract_info(\"Traditional Name\"),\n",
        "        \"CAS Registry Number\": extract_info(\"CAS Registry Number\"),\n",
        "        \"SMILES\": extract_info(\"SMILES\"),\n",
        "        \"InChI Identifier\": extract_info(\"InChI Identifier\"),\n",
        "        \"InChI Key\": extract_info(\"InChI Key\")\n",
        "    }\n",
        "    return metabolite_details\n",
        "\n"
      ]
    },
    {
      "cell_type": "markdown",
      "source": [
        "For a list of metabolites"
      ],
      "metadata": {
        "id": "65BhTyQK01jh"
      }
    },
    {
      "cell_type": "code",
      "source": [
        "\n",
        "import pandas as pd\n",
        "''' Read  the list of HMDB ID from a txt file and exract the information'''\n",
        "\n",
        "# Define the CSV file header\n",
        "csv_header = [\n",
        "        \"HMDB ID\", \"Common Name\", \"Chemical Formula\", \"IUPAC Name\",\n",
        "        \"Traditional Name\", \"CAS Registry Number\", \"SMILES\",\n",
        "        \"InChI Identifier\", \"InChI Key\"\n",
        "]\n",
        "# Create data frame from columns names\n",
        "df = pd.DataFrame(columns=csv_header)\n",
        "\n",
        "# get all  metabolites ID from a txt file and call the function\n",
        "with open('metabolites_list.txt') as f:\n",
        "    for line in f.readlines():\n",
        "        metobolite_hmdb_id = line.strip()\n",
        "        print(get_metabolite_details(metobolite_hmdb_id))\n",
        "        df.loc[len(df)] = get_metabolite_details(metobolite_hmdb_id)\n",
        "\n",
        "# Define the path to save the file in Google Drive\n",
        "MAIN_PATH = '/content/'\n",
        "OUT_FILE_PATH = MAIN_PATH+'Metabolites_details.csv'\n",
        "df.to_csv(OUT_FILE_PATH, index=False)\n",
        "\n"
      ],
      "metadata": {
        "colab": {
          "base_uri": "https://localhost:8080/"
        },
        "id": "_nEIWD0-CZL1",
        "outputId": "bb74356b-3f12-452e-a914-d00f608a1daa"
      },
      "execution_count": 34,
      "outputs": [
        {
          "output_type": "stream",
          "name": "stdout",
          "text": [
            "{'HMDB ID': 'HMDB0000195', 'Common Name': 'Inosine', 'Chemical Formula': 'C10H12N4O5', 'IUPAC Name': '9-[(2R,3R,4S,5R)-3,4-dihydroxy-5-(hydroxymethyl)oxolan-2-yl]-6,9-dihydro-3H-purin-6-one', 'Traditional Name': 'inosine', 'CAS Registry Number': '58-63-9', 'SMILES': 'OC[C@H]1O[C@H]([C@H](O)[C@@H]1O)N1C=NC2=C(O)N=CN=C12', 'InChI Identifier': 'InChI=1S/C10H12N4O5/c15-1-4-6(16)7(17)10(19-4)14-3-13-5-8(14)11-2-12-9(5)18/h2-4,6-7,10,15-17H,1H2,(H,11,12,18)/t4-,6-,7-,10-/m1/s1', 'InChI Key': 'UGQMRVRMYYASKQ-KQYNXXCUSA-N'}\n",
            "{'HMDB ID': 'HMDB0000001', 'Common Name': '1-Methylhistidine', 'Chemical Formula': 'C7H11N3O2', 'IUPAC Name': '2-amino-3-(1-methyl-1H-imidazol-4-yl)propanoic acid hydrate', 'Traditional Name': '4-methyl-histidine hydrate', 'CAS Registry Number': '332-80-9', 'SMILES': 'CN1C=NC(C[C@H](N)C(O)=O)=C1', 'InChI Identifier': 'InChI=1S/C7H11N3O2/c1-10-3-5(9-4-10)2-6(8)7(11)12/h3-4,6H,2,8H2,1H3,(H,11,12)/t6-/m0/s1', 'InChI Key': 'BRMWTNUJHUMWMS-LURJTMIESA-N'}\n",
            "Failed to retrieve data for HMDB0000004: 404\n",
            "None\n",
            "Failed to retrieve data for HMDB0000004: 404\n"
          ]
        }
      ]
    }
  ]
}