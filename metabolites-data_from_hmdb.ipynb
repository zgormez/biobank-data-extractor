{
  "nbformat": 4,
  "nbformat_minor": 0,
  "metadata": {
    "colab": {
      "provenance": [],
      "include_colab_link": true
    },
    "kernelspec": {
      "name": "python3",
      "display_name": "Python 3"
    },
    "language_info": {
      "name": "python"
    }
  },
  "cells": [
    {
      "cell_type": "markdown",
      "metadata": {
        "id": "view-in-github",
        "colab_type": "text"
      },
      "source": [
        "<a href=\"https://colab.research.google.com/github/zgormez/biobank-data-extractor/blob/main/metabolites-data_from_hmdb.ipynb\" target=\"_parent\"><img src=\"https://colab.research.google.com/assets/colab-badge.svg\" alt=\"Open In Colab\"/></a>"
      ]
    },
    {
      "cell_type": "markdown",
      "source": [
        "Only for inosine"
      ],
      "metadata": {
        "id": "_f00gUHr0viz"
      }
    },
    {
      "cell_type": "code",
      "execution_count": null,
      "metadata": {
        "colab": {
          "base_uri": "https://localhost:8080/"
        },
        "id": "GDmEPGNJxr9Z",
        "outputId": "a6a5866a-bf15-4e81-e0bb-837305e45f35"
      },
      "outputs": [
        {
          "output_type": "stream",
          "name": "stdout",
          "text": [
            "Inosine details have been saved to BioID_details.csv\n",
            "Mounted at /content/drive\n",
            "Inosine details have been saved to /content/drive/My Drive/BioID_details.csv\n"
          ]
        }
      ],
      "source": [
        "import requests\n",
        "from bs4 import BeautifulSoup\n",
        "import csv\n",
        "import os\n",
        "from google.colab import drive\n",
        "import shutil\n",
        "\n",
        "def get_metabolite_details(accession_number):\n",
        "    url = f\"https://hmdb.ca/metabolites/{accession_number}\"\n",
        "    response = requests.get(url)\n",
        "\n",
        "    if response.status_code != 200:\n",
        "        print(f\"Failed to retrieve data for {accession_number}: {response.status_code}\")\n",
        "        return None\n",
        "\n",
        "    soup = BeautifulSoup(response.content, 'html.parser')\n",
        "\n",
        "    def extract_info(label):\n",
        "        element = soup.find('th', string=label)\n",
        "        if element and element.find_next_sibling('td'):\n",
        "            return element.find_next_sibling('td').text.strip()\n",
        "        return None\n",
        "\n",
        "    metabolite_details = {\n",
        "        \"HMDB ID\": accession_number,\n",
        "        \"Common Name\": extract_info(\"Common Name\"),\n",
        "        \"Chemical Formula\": extract_info(\"Chemical Formula\"),\n",
        "        \"IUPAC Name\": extract_info(\"IUPAC Name\"),\n",
        "        \"Traditional Name\": extract_info(\"Traditional Name\"),\n",
        "        \"CAS Registry Number\": extract_info(\"CAS Registry Number\"),\n",
        "        \"SMILES\": extract_info(\"SMILES\"),\n",
        "        \"InChI Identifier\": extract_info(\"InChI Identifier\"),\n",
        "        \"InChI Key\": extract_info(\"InChI Key\")\n",
        "    }\n",
        "\n",
        "    return metabolite_details\n",
        "\n",
        "# Define the specific HMDB ID for inosine\n",
        "inosine_hmdb_id = \"HMDB0000195\"\n",
        "\n",
        "# Get details for the specific metabolite\n",
        "inosine_details = get_metabolite_details(inosine_hmdb_id)\n",
        "\n",
        "if inosine_details:\n",
        "    # Define the CSV file header\n",
        "    csv_header = [\n",
        "        \"HMDB ID\", \"Common Name\", \"Chemical Formula\", \"IUPAC Name\",\n",
        "        \"Traditional Name\", \"CAS Registry Number\", \"SMILES\",\n",
        "        \"InChI Identifier\", \"InChI Key\"\n",
        "    ]\n",
        "\n",
        "    # Save the CSV file to the current directory\n",
        "    csv_file_path = 'BioID_details.csv'\n",
        "    with open(csv_file_path, mode='w', newline='', encoding='utf-8') as file:\n",
        "        writer = csv.DictWriter(file, fieldnames=csv_header)\n",
        "        writer.writeheader()\n",
        "        writer.writerow(inosine_details)\n",
        "\n",
        "    print(f\"Inosine details have been saved to {csv_file_path}\")\n",
        "\n",
        "    # Mount Google Drive\n",
        "    drive.mount('/content/drive')\n",
        "\n",
        "    # Define the path to save the file in Google Drive\n",
        "    drive_csv_path = '/content/drive/My Drive/BioID_details.csv'\n",
        "\n",
        "    # Move the file to Google Drive\n",
        "    shutil.move(csv_file_path, drive_csv_path)\n",
        "\n",
        "    print(f\"Inosine details have been saved to {drive_csv_path}\")\n",
        "else:\n",
        "    print(f\"No details found for HMDB ID: {inosine_hmdb_id}\")"
      ]
    },
    {
      "cell_type": "markdown",
      "source": [
        "For a list of metabolites"
      ],
      "metadata": {
        "id": "65BhTyQK01jh"
      }
    },
    {
      "cell_type": "code",
      "source": [
        "headers = {\n",
        "    'User-Agent': 'Mozilla/5.0 (Windows NT 10.0; Win64; x64) AppleWebKit/537.36 (KHTML, like Gecko) Chrome/91.0.4472.124 Safari/537.36'\n",
        "}\n",
        "\n",
        "response = requests.get(search_url, headers=headers)\n"
      ],
      "metadata": {
        "id": "AhAkpzeZ7DLu",
        "outputId": "95849c16-4fbc-47c2-ce36-bdd1ff4a73ac",
        "colab": {
          "base_uri": "https://localhost:8080/",
          "height": 176
        }
      },
      "execution_count": null,
      "outputs": [
        {
          "output_type": "error",
          "ename": "NameError",
          "evalue": "name 'search_url' is not defined",
          "traceback": [
            "\u001b[0;31m---------------------------------------------------------------------------\u001b[0m",
            "\u001b[0;31mNameError\u001b[0m                                 Traceback (most recent call last)",
            "\u001b[0;32m<ipython-input-3-8853c994317b>\u001b[0m in \u001b[0;36m<cell line: 5>\u001b[0;34m()\u001b[0m\n\u001b[1;32m      3\u001b[0m }\n\u001b[1;32m      4\u001b[0m \u001b[0;34m\u001b[0m\u001b[0m\n\u001b[0;32m----> 5\u001b[0;31m \u001b[0mresponse\u001b[0m \u001b[0;34m=\u001b[0m \u001b[0mrequests\u001b[0m\u001b[0;34m.\u001b[0m\u001b[0mget\u001b[0m\u001b[0;34m(\u001b[0m\u001b[0msearch_url\u001b[0m\u001b[0;34m,\u001b[0m \u001b[0mheaders\u001b[0m\u001b[0;34m=\u001b[0m\u001b[0mheaders\u001b[0m\u001b[0;34m)\u001b[0m\u001b[0;34m\u001b[0m\u001b[0;34m\u001b[0m\u001b[0m\n\u001b[0m",
            "\u001b[0;31mNameError\u001b[0m: name 'search_url' is not defined"
          ]
        }
      ]
    }
  ]
}